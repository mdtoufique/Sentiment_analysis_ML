{
 "cells": [
  {
   "cell_type": "code",
   "execution_count": 17,
   "id": "7f56a513-3466-4662-b8ee-3cb4ddd8931e",
   "metadata": {},
   "outputs": [],
   "source": [
    "import numpy as np \n",
    "import pandas as pd\n",
    "import re"
   ]
  },
  {
   "cell_type": "code",
   "execution_count": 2,
   "id": "a2c2b461-9b0a-4947-ab3b-f734204753b8",
   "metadata": {},
   "outputs": [],
   "source": [
    "df=pd.read_csv('IMDB Dataset.csv')"
   ]
  },
  {
   "cell_type": "code",
   "execution_count": 3,
   "id": "069742bd-ea3a-4ce0-a14d-0d8233d69d79",
   "metadata": {},
   "outputs": [],
   "source": [
    "df['sentiment'].replace({'positive':1,'negative':0},inplace=True)"
   ]
  },
  {
   "cell_type": "code",
   "execution_count": 4,
   "id": "441cdf1d-eeb5-40e4-af18-0455eb3592b0",
   "metadata": {},
   "outputs": [],
   "source": [
    "def clean_html(text):\n",
    "    clean=re.compile('<.*?>')\n",
    "    return re.sub(clean,'',text)\n",
    "    "
   ]
  },
  {
   "cell_type": "code",
   "execution_count": 5,
   "id": "c0fa4f85-b311-4670-b15c-8d71a34af5c4",
   "metadata": {},
   "outputs": [],
   "source": [
    "def convert_low(text):\n",
    "    return text.lower()"
   ]
  },
  {
   "cell_type": "code",
   "execution_count": 6,
   "id": "06296be2-0ab3-4d5c-92f9-9415eb4e299b",
   "metadata": {},
   "outputs": [],
   "source": [
    "def remove_special(text):\n",
    "    x=''\n",
    "    for i in text:\n",
    "        if i.isalnum():\n",
    "            x=x+i\n",
    "        else:\n",
    "            x=x+' '\n",
    "    return x"
   ]
  },
  {
   "cell_type": "code",
   "execution_count": 7,
   "id": "02b27cf0-ea11-4c10-b2b0-b0ad27cc7307",
   "metadata": {},
   "outputs": [],
   "source": [
    "import nltk\n",
    "#nltk.download('stopwords')\n",
    "from nltk.corpus import stopwords"
   ]
  },
  {
   "cell_type": "code",
   "execution_count": 8,
   "id": "68e9f638-862e-494f-9dee-c98a7072b6e5",
   "metadata": {},
   "outputs": [],
   "source": [
    "def remove_stopper(text):\n",
    "    x=[]\n",
    "    for i in text.split():\n",
    "        if i not in stopwords.words('english'):\n",
    "            x.append(i)\n",
    "    y=x[:]\n",
    "    x.clear()\n",
    "    return y"
   ]
  },
  {
   "cell_type": "code",
   "execution_count": 9,
   "id": "6ba8d2db-92ec-49af-813b-97aeea702f96",
   "metadata": {},
   "outputs": [],
   "source": [
    "from nltk.stem.porter import PorterStemmer\n",
    "ps=PorterStemmer()"
   ]
  },
  {
   "cell_type": "code",
   "execution_count": 10,
   "id": "be415011-5910-4524-80df-b2d45ccf019c",
   "metadata": {},
   "outputs": [],
   "source": [
    "y=[]\n",
    "def stem_words(text):\n",
    "    for i in text:\n",
    "        y.append(ps.stem(i))\n",
    "    z=y[:]\n",
    "    y.clear()\n",
    "    return z"
   ]
  },
  {
   "cell_type": "code",
   "execution_count": 11,
   "id": "fd5fc513-5fec-468e-a9e0-3949abe86d16",
   "metadata": {},
   "outputs": [],
   "source": [
    "def join_back(list_input):\n",
    "    return \" \".join(list_input)"
   ]
  },
  {
   "cell_type": "code",
   "execution_count": 12,
   "id": "b7d025ce-73c5-4243-8b45-94a3454ed08d",
   "metadata": {},
   "outputs": [],
   "source": [
    "df['review']=df['review'].apply(clean_html)\n",
    "df['review']=df['review'].apply(convert_low)\n",
    "df['review']=df['review'].apply(remove_special)\n",
    "df['review']=df['review'].apply(remove_stopper)\n",
    "df['review']=df['review'].apply(stem_words)\n",
    "df['review']=df['review'].apply(join_back)"
   ]
  },
  {
   "cell_type": "code",
   "execution_count": 13,
   "id": "acbe3c1f-7d44-49d9-9d99-41f097176931",
   "metadata": {},
   "outputs": [
    {
     "data": {
      "text/html": [
       "<div>\n",
       "<style scoped>\n",
       "    .dataframe tbody tr th:only-of-type {\n",
       "        vertical-align: middle;\n",
       "    }\n",
       "\n",
       "    .dataframe tbody tr th {\n",
       "        vertical-align: top;\n",
       "    }\n",
       "\n",
       "    .dataframe thead th {\n",
       "        text-align: right;\n",
       "    }\n",
       "</style>\n",
       "<table border=\"1\" class=\"dataframe\">\n",
       "  <thead>\n",
       "    <tr style=\"text-align: right;\">\n",
       "      <th></th>\n",
       "      <th>review</th>\n",
       "      <th>sentiment</th>\n",
       "    </tr>\n",
       "  </thead>\n",
       "  <tbody>\n",
       "    <tr>\n",
       "      <th>0</th>\n",
       "      <td>one review mention watch 1 oz episod hook righ...</td>\n",
       "      <td>1</td>\n",
       "    </tr>\n",
       "    <tr>\n",
       "      <th>1</th>\n",
       "      <td>wonder littl product film techniqu unassum old...</td>\n",
       "      <td>1</td>\n",
       "    </tr>\n",
       "    <tr>\n",
       "      <th>2</th>\n",
       "      <td>thought wonder way spend time hot summer weeke...</td>\n",
       "      <td>1</td>\n",
       "    </tr>\n",
       "    <tr>\n",
       "      <th>3</th>\n",
       "      <td>basic famili littl boy jake think zombi closet...</td>\n",
       "      <td>0</td>\n",
       "    </tr>\n",
       "    <tr>\n",
       "      <th>4</th>\n",
       "      <td>petter mattei love time money visual stun film...</td>\n",
       "      <td>1</td>\n",
       "    </tr>\n",
       "  </tbody>\n",
       "</table>\n",
       "</div>"
      ],
      "text/plain": [
       "                                              review  sentiment\n",
       "0  one review mention watch 1 oz episod hook righ...          1\n",
       "1  wonder littl product film techniqu unassum old...          1\n",
       "2  thought wonder way spend time hot summer weeke...          1\n",
       "3  basic famili littl boy jake think zombi closet...          0\n",
       "4  petter mattei love time money visual stun film...          1"
      ]
     },
     "execution_count": 13,
     "metadata": {},
     "output_type": "execute_result"
    }
   ],
   "source": [
    "df.head()"
   ]
  },
  {
   "cell_type": "code",
   "execution_count": 18,
   "id": "77729d3a-12cd-4ce9-a218-d982b539d404",
   "metadata": {},
   "outputs": [
    {
     "name": "stdout",
     "output_type": "stream",
     "text": [
      "KNN Accuracy: 0.6834\n"
     ]
    }
   ],
   "source": [
    "from sklearn.feature_extraction.text import TfidfVectorizer\n",
    "from sklearn.metrics.pairwise import cosine_similarity\n",
    "from scipy.spatial.distance import cdist\n",
    "from sklearn.model_selection import train_test_split\n",
    "from sklearn.metrics import accuracy_score\n",
    "# Split the data into training and test sets\n",
    "X_train, X_val, Y_train, Y_val = train_test_split(df['review'], df['sentiment'], test_size=0.2, random_state=42,stratify=df.sentiment)\n",
    "\n",
    "# print(Y_train.shape)\n",
    "\n",
    "# print(Y_val.value_counts())\n",
    "\n",
    "vectorizer = TfidfVectorizer(max_features=10)\n",
    "X_train_tfidf = vectorizer.fit_transform(X_train)\n",
    "X_val_tfidf = vectorizer.transform(X_val)\n",
    "\n",
    "#print(X_val.iloc[0])\n",
    "\n",
    "\n",
    "def knn_predict(test_vector, k=5):\n",
    "    distances = cdist(X_val_tfidf.toarray(), test_vector.toarray(), metric='euclidean')\n",
    "    #print(distances)\n",
    "    indices = distances.argsort(axis=0)[:k]\n",
    "    # print(indices)\n",
    "    #print([df.iloc[i]['sentiment'] for i in indices])\n",
    "    neighbors = Y_val.iloc[indices.flatten()]\n",
    "    return neighbors.mode().values[0]\n",
    "\n",
    "Y_knn_result = []\n",
    "#print(len(Y_val))\n",
    "#print(len(X_val))\n",
    "# print(len(df))\n",
    "for i in range(len(X_val)):\n",
    "    test_vector = vectorizer.transform([X_val.iloc[i]])\n",
    "    prediction = knn_predict(test_vector)\n",
    "    Y_knn_result.append(prediction)\n",
    "# print(len(Y_knn_result))\n",
    "\n",
    "print(\"KNN Accuracy:\", accuracy_score(Y_val, Y_knn_result))\n",
    "#s=vectorizer.transform([\"good movie,love it ,good,good,good, awesome,beautiful\"])\n",
    "# print(s)\n",
    "# print(knn_predict(s))"
   ]
  },
  {
   "cell_type": "code",
   "execution_count": null,
   "id": "cb499fe3-40a8-49ff-bf02-99b8d414e19d",
   "metadata": {},
   "outputs": [],
   "source": []
  }
 ],
 "metadata": {
  "kernelspec": {
   "display_name": "Python 3 (ipykernel)",
   "language": "python",
   "name": "python3"
  },
  "language_info": {
   "codemirror_mode": {
    "name": "ipython",
    "version": 3
   },
   "file_extension": ".py",
   "mimetype": "text/x-python",
   "name": "python",
   "nbconvert_exporter": "python",
   "pygments_lexer": "ipython3",
   "version": "3.12.2"
  }
 },
 "nbformat": 4,
 "nbformat_minor": 5
}
